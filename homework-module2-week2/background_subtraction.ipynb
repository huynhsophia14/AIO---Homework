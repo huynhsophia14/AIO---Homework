%pip install opencv-python-headless
import numpy as np
import cv2

bg1_image = cv2.imread('/workspaces/Homework-1/ML2_HW2/GreenBackground.png', 1) #'1': loads a color image, it is the default flag
bg1_image = cv2.resize(bg1_image, (678, 381))

ob_image = cv2.imread('/workspaces/Homework-1/ML2_HW2/Object.png', 1)
ob_image = cv2.resize(ob_image, (678, 381))

bg2_image = cv2.imread('/workspaces/Homework-1/ML2_HW2/NewBackground.jpg', 1)
bg2_image = cv2.resize(bg2_image, (678, 381))

#cv2_imshow(bg1_image)
#cv2_imshow(ob_image)
#cv2_imshow(bg2_image)
def compute_difference (bg_img , input_img):

    difference_single_channel = cv2.absdiff(bg_img, input_img)

    return difference_single_channel

difference_single_channel = compute_difference(bg1_image, ob_image)
cv2.imwrite('/workspaces/Homework-1/ML2_HW2/difference_single_channel.png', difference_single_channel)
def compute_binary_mask(difference_single_channel):
    # Apply a threshold to get a binary image
    _, difference_binary = cv2.threshold(difference_single_channel, 0, 255, cv2.THRESH_BINARY)
    
    # Return the binary mask
    return difference_binary
binary_mask = compute_binary_mask(difference_single_channel)
cv2.imwrite('/workspaces/Homework-1/ML2_HW2/binary_mask.png', binary_mask)
def replace_background(bg1_image, bg2_image, ob_image):
    difference_single_channel = compute_difference(bg1_image, ob_image)

    binary_mask = compute_binary_mask(difference_single_channel)

    output = np.where(binary_mask == 255, ob_image, bg2_image)

    return output
output = replace_background(bg1_image, bg2_image, ob_image)
cv2.imwrite('/workspaces/Homework-1/ML2_HW2/output_image.png', output)
