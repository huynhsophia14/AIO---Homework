{
  "nbformat": 4,
  "nbformat_minor": 0,
  "metadata": {
    "colab": {
      "provenance": [],
      "gpuType": "T4"
    },
    "kernelspec": {
      "name": "python3",
      "display_name": "Python 3"
    },
    "language_info": {
      "name": "python"
    },
    "accelerator": "GPU"
  },
  "cells": [
    {
      "cell_type": "code",
      "execution_count": 1,
      "metadata": {
        "colab": {
          "base_uri": "https://localhost:8080/"
        },
        "id": "c9WCYms7gE1Q",
        "outputId": "9accfd48-d4cc-4245-c473-956f1a6034bd"
      },
      "outputs": [
        {
          "output_type": "stream",
          "name": "stdout",
          "text": [
            "/usr/local/lib/python3.10/dist-packages/gdown/__main__.py:132: FutureWarning: Option `--id` was deprecated in version 4.3.1 and will be removed in 5.0. You don't need to pass it anymore to use a file ID.\n",
            "  warnings.warn(\n",
            "Downloading...\n",
            "From: https://drive.google.com/uc?id=1N7rk-kfnDFIGMeX0ROVTjKh71gcgx-7R\n",
            "To: /content/2cls_spam_text_cls.csv\n",
            "100% 486k/486k [00:00<00:00, 100MB/s]\n"
          ]
        }
      ],
      "source": [
        "! gdown --id 1N7rk-kfnDFIGMeX0ROVTjKh71gcgx-7R"
      ]
    },
    {
      "cell_type": "code",
      "source": [
        "# ENVIRONMENT\n",
        "import string\n",
        "import nltk\n",
        "nltk.download('stopwords')\n",
        "nltk.download('punkt')\n",
        "import pandas as pd\n",
        "import numpy as np\n",
        "import matplotlib.pyplot as plt\n",
        "\n",
        "from sklearn.model_selection import train_test_split\n",
        "from sklearn.naive_bayes import GaussianNB\n",
        "from sklearn.metrics import accuracy_score\n",
        "from sklearn.preprocessing import LabelEncoder"
      ],
      "metadata": {
        "colab": {
          "base_uri": "https://localhost:8080/"
        },
        "id": "Ot3G2Fq3gnKF",
        "outputId": "ad1c33d5-1dbb-4200-9dd1-c6f6d89f0d7a"
      },
      "execution_count": 2,
      "outputs": [
        {
          "output_type": "stream",
          "name": "stderr",
          "text": [
            "[nltk_data] Downloading package stopwords to /root/nltk_data...\n",
            "[nltk_data]   Unzipping corpora/stopwords.zip.\n",
            "[nltk_data] Downloading package punkt to /root/nltk_data...\n",
            "[nltk_data]   Unzipping tokenizers/punkt.zip.\n"
          ]
        }
      ]
    },
    {
      "cell_type": "code",
      "source": [
        "DATASET_PATH = '/content/2cls_spam_text_cls.csv'\n",
        "df = pd.read_csv(DATASET_PATH)\n",
        "\n",
        "messages = df['Message'].values.tolist()\n",
        "labels = df['Category'].values.tolist()"
      ],
      "metadata": {
        "id": "qSYAeCeyhSQJ"
      },
      "execution_count": 3,
      "outputs": []
    },
    {
      "cell_type": "code",
      "source": [
        "# Pre-processing data\n",
        "\n",
        "# convert all text to lowercase\n",
        "def lowercase(text):\n",
        "    return text.lower()\n",
        "\n",
        "# eliminate all punctuation marks\n",
        "def punctuation_removal(text):\n",
        "    translator = str.maketrans('', '', string.punctuation)\n",
        "    return text.translate(translator)\n",
        "\n",
        "# split the text into individual words (TOKENS)\n",
        "def tokenize(text):\n",
        "    return nltk.word_tokenize(text)\n",
        "\n",
        "# filter out common words that do not carry significant meaning\n",
        "def remove_stopwords(tokens):\n",
        "    stop_words = nltk.corpus.stopwords.words('english')\n",
        "\n",
        "    return[token for token in tokens if token not in stop_words]\n",
        "\n",
        "# reduce word to the root form, group similar words together\n",
        "def stemming(tokens):\n",
        "    stemmer = nltk.PorterStemmer()\n",
        "    return[stemmer.stem(token) for token in tokens]\n",
        "\n",
        "# all the above functions constitude preprocess_text funct\n",
        "def preprocess_text(text):\n",
        "    text = lowercase(text)\n",
        "    text = punctuation_removal(text)\n",
        "    tokens = tokenize(text)\n",
        "    tokens = remove_stopwords(tokens)\n",
        "    tokens = stemming(tokens)\n",
        "\n",
        "    return tokens\n",
        "\n",
        "messages = [preprocess_text(message) for message in messages]\n"
      ],
      "metadata": {
        "id": "RKjX5RYkhuEG"
      },
      "execution_count": 4,
      "outputs": []
    },
    {
      "cell_type": "code",
      "source": [
        "# create a dictionary storing all tokens and characters in 'messages' after preprocessing and not counting duplicated words\n",
        "\n",
        "def create_dictionary(messages):\n",
        "    dictionary = []\n",
        "\n",
        "    for tokens in messages:\n",
        "        for token in tokens:\n",
        "            if token not in dictionary:\n",
        "                dictionary.append(token)\n",
        "\n",
        "    return dictionary\n",
        "\n",
        "dictionary = create_dictionary(messages)"
      ],
      "metadata": {
        "id": "MVNcMWa8uAND"
      },
      "execution_count": 5,
      "outputs": []
    },
    {
      "cell_type": "code",
      "source": [
        "# create features that represent the information of the Messages based on the token appearing frequency\n",
        "# for each message, the representative vector will have the size equals to the number of tokens in dictionary\n",
        "\n",
        "def create_features(tokens, dictionary):\n",
        "    features = np.zeros(len(dictionary))\n",
        "\n",
        "    for token in tokens:\n",
        "        if token in dictionary:\n",
        "            features[dictionary.index(token)] += 1\n",
        "\n",
        "    return features\n",
        "\n",
        "X = np.array([create_features(tokens, dictionary) for tokens in messages])"
      ],
      "metadata": {
        "id": "QUcR03K6ijXM"
      },
      "execution_count": 6,
      "outputs": []
    },
    {
      "cell_type": "code",
      "source": [
        "# to use the 'LabelEncoder' class from the 'sklearn.preprocessing' module in Python\n",
        "\n",
        "le = LabelEncoder()\n",
        "y = le.fit_transform(labels) # labels = df['Category'].values.tolist()\n",
        "print(f'Classes : {le.classes_ }')\n",
        "print(f'Encoded labels : {y}')\n",
        "\n",
        "# >> Classes : [ ’ham ’ ’spam ’]\n",
        "# >> Encoded labels : [0 0 1 ... 0 0 0]"
      ],
      "metadata": {
        "colab": {
          "base_uri": "https://localhost:8080/"
        },
        "id": "yam1yNNkx3aJ",
        "outputId": "072c4a85-be95-4498-a9f7-30908567c61d"
      },
      "execution_count": 9,
      "outputs": [
        {
          "output_type": "stream",
          "name": "stdout",
          "text": [
            "Classes : ['ham' 'spam']\n",
            "Encoded labels : [0 0 1 ... 0 0 0]\n"
          ]
        }
      ]
    },
    {
      "cell_type": "code",
      "source": [
        "VAL_SIZE = 0.2 # define the proportion of the dataset to be used for the validation set (20%)\n",
        "TEST_SIZE = 0.125 # define the proportion of the dataset (after the first split) to be used for the test set (12.5%)\n",
        "SEED = 0 # set a random seed for shuffling the data, ensuring that the split is reproducible\n",
        "\n",
        "# to use 'train_test_split' function from 'sklearn.model_selection' module\n",
        "\n",
        "# the first train_test_split function splits the entire dataset into a training set and a validation set\n",
        "X_train, X_val, y_train, y_val = train_test_split(X, y,\n",
        "                                                  test_size=VAL_SIZE,\n",
        "                                                  shuffle=True,\n",
        "                                                  random_state = SEED)\n",
        "\n",
        "# the second train_test_split function takes the 'X_train' and 'y_train' data from the first split and further splits it into training and test sets\n",
        "X_train, X_test, y_train, y_test = train_test_split(X_train, y_train,\n",
        "                                                    test_size = TEST_SIZE ,\n",
        "                                                    shuffle =True,\n",
        "                                                    random_state = SEED)"
      ],
      "metadata": {
        "id": "wrPiJnt63XZs"
      },
      "execution_count": 10,
      "outputs": []
    },
    {
      "cell_type": "code",
      "source": [
        "# initialize a GaussianNB model from the 'sklearn.naive_bayes' module\n",
        "model = GaussianNB()\n",
        "print('Start training ...')\n",
        "\n",
        "# train model\n",
        "model = model.fit(X_train, y_train)\n",
        "print('Training completed!')\n",
        "\n",
        "# >> Start training ...\n",
        "# >> Training completed!\n",
        "# >> CPU times: user 397 ms, sys: 162 ms, total: 559 ms\n",
        "# >> Wall time: 633 ms"
      ],
      "metadata": {
        "colab": {
          "base_uri": "https://localhost:8080/"
        },
        "id": "qmXGTvFv7AY8",
        "outputId": "0768db78-73e9-4317-9474-e85a2aada5bd"
      },
      "execution_count": 12,
      "outputs": [
        {
          "output_type": "stream",
          "name": "stdout",
          "text": [
            "Start training ...\n",
            "Training completed!\n"
          ]
        }
      ]
    },
    {
      "cell_type": "code",
      "source": [
        "y_val_pred = model.predict(X_val)\n",
        "y_test_pred = model.predict(X_test)\n",
        "\n",
        "val_accuracy = accuracy_score(y_val, y_val_pred)\n",
        "test_accuracy = accuracy_score(y_test, y_test_pred)\n",
        "\n",
        "print(f'Val accuracy: {val_accuracy}')\n",
        "print(f'Test accuracy: {test_accuracy}')\n",
        "\n",
        "# >> Val accuracy : 0.8816143497757848\n",
        "# >> Test accuracy : 0.8602150537634409"
      ],
      "metadata": {
        "colab": {
          "base_uri": "https://localhost:8080/"
        },
        "id": "xRkWvnRm8KBF",
        "outputId": "0526e0c5-dbe6-415b-b771-3c44d316722e"
      },
      "execution_count": 13,
      "outputs": [
        {
          "output_type": "stream",
          "name": "stdout",
          "text": [
            "Val accuracy: 0.8816143497757848\n",
            "Test accuracy: 0.8602150537634409\n"
          ]
        }
      ]
    },
    {
      "cell_type": "code",
      "source": [
        "def predict(text, model, dictionary):\n",
        "    processed_text = preprocess_text(text)\n",
        "    features = create_features(text, dictionary)\n",
        "    features = np.array(features).reshape(1, -1)\n",
        "    prediction = model.predict(features)\n",
        "    prediction_cls = le.inverse_transform(prediction)[0]\n",
        "\n",
        "    return prediction_cls\n",
        "\n",
        "test_input = 'I am actually thinking a way of doing something useful'\n",
        "prediction_cls = predict(test_input, model, dictionary)\n",
        "print(f'Prediction: { prediction_cls }')\n",
        "\n",
        "# >> Prediction : ham"
      ],
      "metadata": {
        "colab": {
          "base_uri": "https://localhost:8080/"
        },
        "id": "n0FMItN38nzS",
        "outputId": "369ac6bb-072c-46f7-870d-8d5c8333ea1f"
      },
      "execution_count": 14,
      "outputs": [
        {
          "output_type": "stream",
          "name": "stdout",
          "text": [
            "Prediction: ham\n"
          ]
        }
      ]
    },
    {
      "cell_type": "code",
      "source": [],
      "metadata": {
        "id": "gv9mZxsB9V7Q"
      },
      "execution_count": null,
      "outputs": []
    }
  ]
}