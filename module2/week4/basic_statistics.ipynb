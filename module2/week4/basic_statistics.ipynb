{
 "cells": [
  {
   "cell_type": "code",
   "execution_count": 1,
   "metadata": {},
   "outputs": [
    {
     "name": "stdout",
     "output_type": "stream",
     "text": [
      " Mean: 1.8\n"
     ]
    }
   ],
   "source": [
    "### Question 1\n",
    "import numpy as np\n",
    "\n",
    "def compute_mean(X):\n",
    "    mean = np.mean(X)\n",
    "    return mean\n",
    "\n",
    "X = [2 , 0 , 2 , 2 , 7, 4 , -2 , 5 , -1 , -1]\n",
    "print (\" Mean:\", compute_mean(X))"
   ]
  },
  {
   "cell_type": "code",
   "execution_count": 8,
   "metadata": {},
   "outputs": [
    {
     "name": "stdout",
     "output_type": "stream",
     "text": [
      "[ 1  4  4  5  9 13]\n",
      "Median: 4\n"
     ]
    }
   ],
   "source": [
    "### Question 2\n",
    "\n",
    "def compute_median(X):\n",
    "    size = len(X)\n",
    "    X = np.sort(X)\n",
    "    print(X)\n",
    "    if (size % 2 == 0) :\n",
    "        return X[int(size/2 - 1)]\n",
    "    else :\n",
    "        return X[round(size/2, 0)]\n",
    "\n",
    "X = [1 , 5 , 4 , 4 , 9, 13]\n",
    "print (\"Median:\", compute_median(X))"
   ]
  },
  {
   "cell_type": "code",
   "execution_count": 12,
   "metadata": {},
   "outputs": [
    {
     "name": "stdout",
     "output_type": "stream",
     "text": [
      "8.32666399786453\n"
     ]
    }
   ],
   "source": [
    "### Question 3\n",
    "\n",
    "def compute_std(X):\n",
    "\n",
    "    mean = compute_mean(X)\n",
    "    variance = np.var(X)\n",
    "    return np.sqrt(variance)\n",
    "\n",
    "X = [171, 176, 155, 167, 169, 182]\n",
    "\n",
    "print(compute_std(X))"
   ]
  },
  {
   "cell_type": "code",
   "execution_count": 17,
   "metadata": {},
   "outputs": [
    {
     "name": "stdout",
     "output_type": "stream",
     "text": [
      " Correlation :  0.42\n"
     ]
    }
   ],
   "source": [
    "### Question 4\n",
    "\n",
    "def compute_correlation_cofficient(X, Y):\n",
    "    N = len(X)\n",
    "    numerator = N*np.dot(X, Y) - np.sum(X)*np.sum(Y)\n",
    "    denominator = np.sqrt((N*np.sum(X**2) - (np.sum(X))**2)) * np.sqrt((N*np.sum(Y**2) - (np.sum(Y))**2))\n",
    "\n",
    "    return np.round(numerator/denominator, 2)\n",
    "\n",
    "X = np.asarray([-2, -5, -11, 6, 4, 15, 9])\n",
    "Y = np.asarray([4, 25, 121, 36, 16, 225, 81])\n",
    "print (\"Correlation:\", compute_correlation_cofficient (X, Y))"
   ]
  },
  {
   "cell_type": "code",
   "execution_count": 21,
   "metadata": {},
   "outputs": [
    {
     "name": "stdout",
     "output_type": "stream",
     "text": [
      "Downloading...\n",
      "From: https://drive.google.com/uc?id=1iA0WmVfW88HyJvTBSQDI5vesf-pgKabq\n",
      "To: /workspaces/Homework-1/ML2_HW4/advertising.csv\n",
      "100%|██████████████████████████████████████| 4.06k/4.06k [00:00<00:00, 23.5MB/s]\n",
      "Correlation between TV and Sales: 0.05\n"
     ]
    }
   ],
   "source": [
    "### Question 5\n",
    "# Download dataset:\n",
    "!gdown 1iA0WmVfW88HyJvTBSQDI5vesf-pgKabq\n",
    "\n",
    "import pandas as pd\n",
    "data = pd.read_csv('advertising.csv')\n",
    "\n",
    "def correlation(x, y):\n",
    "\n",
    "    mean_x = np.mean(x)\n",
    "    mean_y = np.mean(y)\n",
    "\n",
    "    numerator = np.sum(np.dot((x - mean_x), (y - mean_y)))\n",
    "    denominator = np.sqrt(np.sum((x - mean_x)**2)) * np.sqrt(np.sum((y - mean_y)**2))\n",
    "    \n",
    "    return round(numerator / denominator, 2)\n",
    "\n",
    "# Example usage :\n",
    "x = data['TV']\n",
    "y = data['Radio']\n",
    "corr_xy = correlation(x, y)\n",
    "print(f\"Correlation between TV and Sales: {round(corr_xy, 2)}\")"
   ]
  },
  {
   "cell_type": "code",
   "execution_count": 22,
   "metadata": {},
   "outputs": [
    {
     "name": "stdout",
     "output_type": "stream",
     "text": [
      "Correlation between TV and TV: 1.0\n",
      "Correlation between TV and Radio: 0.05\n",
      "Correlation between TV and Newspaper: 0.06\n",
      "Correlation between Radio and TV: 0.05\n",
      "Correlation between Radio and Radio: 1.0\n",
      "Correlation between Radio and Newspaper: 0.35\n",
      "Correlation between Newspaper and TV: 0.06\n",
      "Correlation between Newspaper and Radio: 0.35\n",
      "Correlation between Newspaper and Newspaper: 1.0\n"
     ]
    }
   ],
   "source": [
    "### Question 6\n",
    "data = pd.read_csv('advertising.csv')\n",
    "\n",
    "def correlation(x, y):\n",
    "    mean_x = np.mean(x)\n",
    "    mean_y = np.mean(y)\n",
    "\n",
    "    numerator = np.sum(np.dot((x - mean_x), (y - mean_y)))\n",
    "    denominator = np.sqrt(np.sum((x - mean_x)**2)) * np.sqrt(np.sum((y - mean_y)**2))\n",
    "    \n",
    "    return round(numerator / denominator, 2)\n",
    "\n",
    "features = ['TV', 'Radio', 'Newspaper']\n",
    "\n",
    "for feature_1 in features:\n",
    "    for feature_2 in features:\n",
    "        correlation_value = correlation(data[feature_1], data[feature_2])\n",
    "        print(f\"Correlation between {feature_1} and {feature_2}: {round(correlation_value, 2)}\")"
   ]
  },
  {
   "cell_type": "code",
   "execution_count": 5,
   "metadata": {},
   "outputs": [
    {
     "name": "stdout",
     "output_type": "stream",
     "text": [
      "Downloading...\n",
      "From: https://drive.google.com/uc?id=1jh2p2DlaWsDo_vEWIcTrNh3mUuXd-cw6\n",
      "To: /workspaces/Homework-1/ML2_HW4/vi_text_retrieval.csv\n",
      "100%|████████████████████████████████████████| 201k/201k [00:00<00:00, 29.7MB/s]\n"
     ]
    },
    {
     "data": {
      "text/plain": [
       "0.31126580760710637"
      ]
     },
     "execution_count": 5,
     "metadata": {},
     "output_type": "execute_result"
    }
   ],
   "source": [
    "### Question 10\n",
    "# Download dataset : \n",
    "!gdown 1jh2p2DlaWsDo_vEWIcTrNh3mUuXd-cw6\n",
    "\n",
    "import pandas as pd\n",
    "import numpy as np\n",
    "from sklearn.metrics.pairwise import cosine_similarity\n",
    "from sklearn.feature_extraction.text import TfidfVectorizer\n",
    "\n",
    "vi_data_df = pd.read_csv('./vi_text_retrieval.csv')\n",
    "context = vi_data_df['text']\n",
    "context = [doc.lower() for doc in context]\n",
    "\n",
    "tfidf_vectorizer = TfidfVectorizer()\n",
    "context_embedded = tfidf_vectorizer.fit_transform(context)\n",
    "context_embedded.toarray()[7][0]"
   ]
  },
  {
   "cell_type": "code",
   "execution_count": 7,
   "metadata": {},
   "outputs": [
    {
     "data": {
      "text/plain": [
       "0.6279910475266972"
      ]
     },
     "execution_count": 7,
     "metadata": {},
     "output_type": "execute_result"
    }
   ],
   "source": [
    "### Question 11\n",
    "def tfidf_search(question, tfidf_vectorizer, top_d = 5):\n",
    "    # Lowercasing before encoding\n",
    "    query_embedded = tfidf_vectorizer.transform([question.lower()])\n",
    "    # Calculating cosine similarity scores\n",
    "    tfidf_matrix = tfidf_vectorizer.fit_transform(context)\n",
    "    cosine_scores = cosine_similarity(query_embedded, tfidf_matrix).flatten()\n",
    "\n",
    "    # Get top k cosine score and index its\n",
    "    results = []\n",
    "    for idx in cosine_scores.argsort()[-top_d:][::-1]:\n",
    "        doc_score = {\n",
    "            'id': idx,\n",
    "            'cosine_score': cosine_scores[idx]\n",
    "        }\n",
    "        results.append(doc_score)\n",
    "    return results\n",
    "\n",
    "question = vi_data_df.iloc[0]['question']\n",
    "results = tfidf_search(question, tfidf_vectorizer, top_d = 5)\n",
    "results[0]['cosine_score']"
   ]
  },
  {
   "cell_type": "code",
   "execution_count": 9,
   "metadata": {},
   "outputs": [
    {
     "data": {
      "text/plain": [
       "0.21145795862251632"
      ]
     },
     "execution_count": 9,
     "metadata": {},
     "output_type": "execute_result"
    }
   ],
   "source": [
    "### Question 12\n",
    "def corr_search(question, tfidf_vectorizer, top_d =5) :\n",
    "    # lowercasing before encoding\n",
    "    query_embedded = tfidf_vectorizer.transform([question.lower()])\n",
    "    tfidf_matrix = tfidf_vectorizer.fit_transform(context)\n",
    "    # Calculating cosine similarity scores (used here as correlation scores)\n",
    "    corr_scores = cosine_similarity(query_embedded, tfidf_matrix)\n",
    "    # Flatten the result to get a 1D array and remove the self-correlation score\n",
    "    corr_scores = corr_scores.flatten()\n",
    "\n",
    "    # Get top k correlation score and index its\n",
    "    results = []\n",
    "    for idx in corr_scores.argsort()[-top_d:][::-1]:\n",
    "        doc = {\n",
    "            'id': idx,\n",
    "            'corr_score': corr_scores[idx]\n",
    "        }\n",
    "        results.append(doc)\n",
    "    return results\n",
    "\n",
    "question = vi_data_df.iloc[0]['question']\n",
    "results = corr_search(question, tfidf_vectorizer, top_d =5)\n",
    "results[1]['corr_score']"
   ]
  }
 ],
 "metadata": {
  "kernelspec": {
   "display_name": "Python 3",
   "language": "python",
   "name": "python3"
  },
  "language_info": {
   "codemirror_mode": {
    "name": "ipython",
    "version": 3
   },
   "file_extension": ".py",
   "mimetype": "text/x-python",
   "name": "python",
   "nbconvert_exporter": "python",
   "pygments_lexer": "ipython3",
   "version": "3.10.13"
  }
 },
 "nbformat": 4,
 "nbformat_minor": 2
}
